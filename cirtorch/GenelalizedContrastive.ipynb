{
 "metadata": {
  "language_info": {
   "codemirror_mode": {
    "name": "ipython",
    "version": 3
   },
   "file_extension": ".py",
   "mimetype": "text/x-python",
   "name": "python",
   "nbconvert_exporter": "python",
   "pygments_lexer": "ipython3",
   "version": "3.8.5"
  },
  "orig_nbformat": 2,
  "kernelspec": {
   "name": "python385jvsc74a57bd0082e9a3bcad0a290d0001e938aa60b99250c6c2ef33a923c00b70f9826caf4b7",
   "display_name": "Python 3.8.5 64-bit"
  },
  "metadata": {
   "interpreter": {
    "hash": "082e9a3bcad0a290d0001e938aa60b99250c6c2ef33a923c00b70f9826caf4b7"
   }
  }
 },
 "nbformat": 4,
 "nbformat_minor": 2,
 "cells": [
  {
   "cell_type": "code",
   "execution_count": 21,
   "metadata": {},
   "outputs": [],
   "source": [
    "import h5py\n",
    "import numpy as np"
   ]
  },
  {
   "cell_type": "code",
   "execution_count": 31,
   "metadata": {},
   "outputs": [],
   "source": [
    "with h5py.File('/Users/alexanderholstrup/Downloads/london_gt.h5', \"r\") as f:\n",
    "    binary_similarity=f[\"sim\"][:]\n",
    "    graded_similarity=f[\"fov\"][:]"
   ]
  },
  {
   "cell_type": "code",
   "execution_count": 27,
   "metadata": {},
   "outputs": [
    {
     "output_type": "execute_result",
     "data": {
      "text/plain": [
       "(2692, 3291)"
      ]
     },
     "metadata": {},
     "execution_count": 27
    }
   ],
   "source": [
    "np.shape(graded_similarity)"
   ]
  },
  {
   "cell_type": "code",
   "execution_count": 29,
   "metadata": {},
   "outputs": [
    {
     "output_type": "execute_result",
     "data": {
      "text/plain": [
       "array([[0.7334  , 0.3306  , 0.0352  , ..., 0.      , 0.      , 0.      ],\n",
       "       [0.6333  , 0.7363  , 0.2737  , ..., 0.      , 0.      , 0.      ],\n",
       "       [0.3726  , 0.76    , 0.5156  , ..., 0.      , 0.      , 0.      ],\n",
       "       ...,\n",
       "       [0.      , 0.      , 0.      , ..., 0.03592 , 0.1444  , 0.56    ],\n",
       "       [0.      , 0.      , 0.      , ..., 0.004574, 0.088   , 0.4844  ],\n",
       "       [0.      , 0.      , 0.      , ..., 0.      , 0.04163 , 0.4062  ]],\n",
       "      dtype=float16)"
      ]
     },
     "metadata": {},
     "execution_count": 29
    }
   ],
   "source": [
    "graded_similarity"
   ]
  },
  {
   "cell_type": "code",
   "execution_count": null,
   "metadata": {},
   "outputs": [],
   "source": []
  }
 ]
}