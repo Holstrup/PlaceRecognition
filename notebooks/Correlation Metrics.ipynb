{
 "cells": [
  {
   "cell_type": "code",
   "execution_count": 1,
   "metadata": {},
   "outputs": [],
   "source": [
    "import numpy as np\n",
    "import matplotlib.pyplot as plt\n",
    "import scipy.stats as stats\n",
    "from sklearn.linear_model import LinearRegression\n",
    "from sklearn.metrics import mean_squared_error"
   ]
  },
  {
   "cell_type": "code",
   "execution_count": 37,
   "metadata": {},
   "outputs": [],
   "source": [
    "datasets = {1: 'data/IT2/RegressionContrastive', \n",
    "            2: 'data/IT2/Contrastive', \n",
    "            #3: 'data/IT2/ContinuedContrastive', \n",
    "            4: 'data/IT2/OnlyPositiveContrastive',\n",
    "            5: 'data/IT2/RegContrastiveContinued',\n",
    "            6: 'data/IT2/CDFTobit/epoch_180',\n",
    "            7: 'data/IT3/LogTobitAndCDF',\n",
    "            8: 'data/IT3/LogTobitAndCDF1',\n",
    "            9: 'data/IT3/RegressionNegNum1',\n",
    "            10: 'data/IT2/ContrastiveVariantMSE',\n",
    "            12: 'data/IT4/MSEAndContrastive/Test',\n",
    "            13: 'data/IT4/Contrastive/Test',\n",
    "            14: 'data/IT4/MSEContrativeCombined/Test'}\n",
    "\n",
    "no = 13\n",
    "gps = np.genfromtxt(f'{datasets[no]}/gps.csv', delimiter=',')\n",
    "emb = np.genfromtxt(f'{datasets[no]}/embedding.csv', delimiter=',')\n",
    "emb = 1-emb"
   ]
  },
  {
   "cell_type": "markdown",
   "metadata": {},
   "source": [
    "# Correlation"
   ]
  },
  {
   "cell_type": "code",
   "execution_count": 39,
   "metadata": {
    "scrolled": false
   },
   "outputs": [
    {
     "name": "stdout",
     "output_type": "stream",
     "text": [
      "MSE: 0.001534532021183418\n",
      "Gradient: [0.00143682]\n"
     ]
    },
    {
     "data": {
      "text/plain": [
       "(0.0, 1.0)"
      ]
     },
     "execution_count": 39,
     "metadata": {},
     "output_type": "execute_result"
    },
    {
     "data": {
      "image/png": "[encoded data removed]",
      "text/plain": [
       "<Figure size 1440x720 with 1 Axes>"
      ]
     },
     "metadata": {
      "needs_background": "light"
     },
     "output_type": "display_data"
    }
   ],
   "source": [
    "positive_emb = emb[gps != 0].reshape(-1, 1)\n",
    "positive_gps = gps[gps != 0].reshape(-1, 1)\n",
    "\n",
    "reg = LinearRegression().fit(positive_gps, positive_emb)\n",
    "mse = mean_squared_error(positive_emb, reg.predict(positive_gps))\n",
    "print(f'MSE: {mse}')\n",
    "print(f'Gradient: {reg.coef_[0]}')\n",
    "\n",
    "predicted = reg.predict(positive_gps)\n",
    "\n",
    "\n",
    "#Plot\n",
    "fig, axs = plt.subplots(1, 1, figsize=(20,10))\n",
    "axs.scatter(positive_gps, positive_emb, color='b')\n",
    "axs.plot(positive_gps, predicted, color='red', linewidth=3)\n",
    "axs.set_xlim([0, 25])\n",
    "axs.set_ylim([0.0, 1.0])"
   ]
  },
  {
   "cell_type": "code",
   "execution_count": null,
   "metadata": {},
   "outputs": [],
   "source": []
  },
  {
   "cell_type": "markdown",
   "metadata": {
    "heading_collapsed": true
   },
   "source": [
    "# Kendall's Tau"
   ]
  },
  {
   "cell_type": "code",
   "execution_count": 7,
   "metadata": {
    "hidden": true
   },
   "outputs": [],
   "source": [
    "def kendalltau(ranking_a, ranking_b):\n",
    "    return stats.kendalltau(np.argsort(ranking_a), np.argsort(ranking_b))"
   ]
  },
  {
   "cell_type": "code",
   "execution_count": 11,
   "metadata": {
    "hidden": true
   },
   "outputs": [
    {
     "name": "stdout",
     "output_type": "stream",
     "text": [
      "0.09120224325271643 0.911111111111111\n"
     ]
    }
   ],
   "source": [
    "N = len(gps)\n",
    "scores = np.zeros(N)\n",
    "for i in range(N):\n",
    "    c, p = kendalltau(gps[i], emb[i])\n",
    "    scores[i] = c\n",
    "print(np.mean(scores), np.max(scores))"
   ]
  }
 ],
 "metadata": {
  "kernelspec": {
   "display_name": "Python 3",
   "language": "python",
   "name": "python3"
  },
  "language_info": {
   "codemirror_mode": {
    "name": "ipython",
    "version": 3
   },
   "file_extension": ".py",
   "mimetype": "text/x-python",
   "name": "python",
   "nbconvert_exporter": "python",
   "pygments_lexer": "ipython3",
   "version": "3.8.5"
  },
  "toc": {
   "base_numbering": 1,
   "nav_menu": {},
   "number_sections": true,
   "sideBar": true,
   "skip_h1_title": false,
   "title_cell": "Table of Contents",
   "title_sidebar": "Contents",
   "toc_cell": false,
   "toc_position": {},
   "toc_section_display": true,
   "toc_window_display": false
  }
 },
 "nbformat": 4,
 "nbformat_minor": 2
}
