{
 "cells": [
  {
   "cell_type": "code",
   "execution_count": 182,
   "metadata": {},
   "outputs": [],
   "source": [
    "import numpy as np\n",
    "import matplotlib.pyplot as plt\n",
    "from sklearn.linear_model import LinearRegression"
   ]
  },
  {
   "cell_type": "code",
   "execution_count": 183,
   "metadata": {},
   "outputs": [],
   "source": [
    "def filterdata(gps, embedding, margin=25):\n",
    "    positive_gps = []\n",
    "    positive_embedding = []\n",
    "    for i in range(len(gps)):\n",
    "        for j in range(len(gps[i])):\n",
    "            if gps[i][j] < margin:\n",
    "                positive_gps.append(gps[i][j])\n",
    "                positive_embedding.append(abs(1-embedding[i][j]))\n",
    "    positive_gps = np.array(positive_gps).reshape(-1, 1)\n",
    "    reg = LinearRegression().fit(positive_gps, positive_embedding)\n",
    "    return positive_gps, positive_embedding, reg\n",
    "\n",
    "def plotdata(positive_gps, positive_embedding, reg):\n",
    "    positive_embedding_pred = reg.predict(positive_gps)    \n",
    "    plt.scatter(positive_gps, positive_embedding)\n",
    "    plt.plot(positive_gps, positive_embedding_pred, color='red', linewidth=3)\n",
    "    plt.show()"
   ]
  },
  {
   "cell_type": "markdown",
   "metadata": {
    "heading_collapsed": true
   },
   "source": [
    "## Bootstrapped Contrastive Loss"
   ]
  },
  {
   "cell_type": "code",
   "execution_count": 184,
   "metadata": {
    "hidden": true
   },
   "outputs": [
    {
     "name": "stdout",
     "output_type": "stream",
     "text": [
      "No Points: 1103\n"
     ]
    }
   ],
   "source": [
    "gps = np.genfromtxt('data/RegressionContrastive/gps.csv', delimiter=',')\n",
    "embedding = np.genfromtxt('data/RegressionContrastive/embedding.csv', delimiter=',')\n",
    "print(f'No Points: {len(gps)}')"
   ]
  },
  {
   "cell_type": "code",
   "execution_count": 185,
   "metadata": {
    "hidden": true
   },
   "outputs": [
    {
     "data": {
      "image/png": "[encoded data removed]",
      "text/plain": [
       "<Figure size 432x288 with 1 Axes>"
      ]
     },
     "metadata": {
      "needs_background": "light"
     },
     "output_type": "display_data"
    }
   ],
   "source": [
    "positive_gps, positive_embedding, reg = filterdata(gps, embedding)\n",
    "plotdata(positive_gps, positive_embedding, reg)"
   ]
  },
  {
   "cell_type": "code",
   "execution_count": 179,
   "metadata": {
    "hidden": true
   },
   "outputs": [
    {
     "name": "stdout",
     "output_type": "stream",
     "text": [
      "(Gradient, Intercept) = (0.00012401287438195565, 0.1904438511884503)\n"
     ]
    }
   ],
   "source": [
    "print(f'(Gradient, Intercept) = ({reg.coef_[0]}, {reg.intercept_})')"
   ]
  },
  {
   "cell_type": "markdown",
   "metadata": {},
   "source": [
    "## Contrastive"
   ]
  },
  {
   "cell_type": "code",
   "execution_count": 180,
   "metadata": {},
   "outputs": [
    {
     "name": "stdout",
     "output_type": "stream",
     "text": [
      "No Points: 1103\n"
     ]
    }
   ],
   "source": [
    "gps = np.genfromtxt('data/Contrastive/gps.csv', delimiter=',')\n",
    "embedding = np.genfromtxt('data/Contrastive/embedding.csv', delimiter=',')\n",
    "print(f'No Points: {len(gps)}')"
   ]
  },
  {
   "cell_type": "code",
   "execution_count": 181,
   "metadata": {},
   "outputs": [
    {
     "name": "stdout",
     "output_type": "stream",
     "text": [
      "0.018580754972449376\n"
     ]
    },
    {
     "data": {
      "image/png": "[encoded data removed]",
      "text/plain": [
       "<Figure size 432x288 with 1 Axes>"
      ]
     },
     "metadata": {
      "needs_background": "light"
     },
     "output_type": "display_data"
    }
   ],
   "source": [
    "positive_gps, positive_embedding, reg = filterdata(gps, embedding)\n",
    "plotdata(positive_gps, positive_embedding, reg)"
   ]
  },
  {
   "cell_type": "code",
   "execution_count": 168,
   "metadata": {},
   "outputs": [
    {
     "name": "stdout",
     "output_type": "stream",
     "text": [
      "[0.00052362] 0.12612148639881443\n"
     ]
    }
   ],
   "source": [
    "print(f'(Gradient, Intercept) = ({reg.coef_[0]}, {reg.intercept_})')"
   ]
  },
  {
   "cell_type": "markdown",
   "metadata": {},
   "source": [
    "## Linear Overweighted Contrastive"
   ]
  },
  {
   "cell_type": "code",
   "execution_count": 186,
   "metadata": {},
   "outputs": [
    {
     "name": "stdout",
     "output_type": "stream",
     "text": [
      "No Points: 1103\n"
     ]
    }
   ],
   "source": [
    "gps = np.genfromtxt('data/Overweighted/gps.csv', delimiter=',')\n",
    "embedding = np.genfromtxt('data/Overweighted/embedding.csv', delimiter=',')\n",
    "print(f'No Points: {len(gps)}')"
   ]
  },
  {
   "cell_type": "code",
   "execution_count": 187,
   "metadata": {},
   "outputs": [
    {
     "data": {
      "image/png": "[encoded data removed]",
      "text/plain": [
       "<Figure size 432x288 with 1 Axes>"
      ]
     },
     "metadata": {
      "needs_background": "light"
     },
     "output_type": "display_data"
    }
   ],
   "source": [
    "positive_gps, positive_embedding, reg = filterdata(gps, embedding)\n",
    "plotdata(positive_gps, positive_embedding, reg)"
   ]
  }
 ],
 "metadata": {
  "kernelspec": {
   "display_name": "Python 3",
   "language": "python",
   "name": "python3"
  },
  "language_info": {
   "codemirror_mode": {
    "name": "ipython",
    "version": 3
   },
   "file_extension": ".py",
   "mimetype": "text/x-python",
   "name": "python",
   "nbconvert_exporter": "python",
   "pygments_lexer": "ipython3",
   "version": "3.7.6"
  },
  "toc": {
   "base_numbering": 1,
   "nav_menu": {},
   "number_sections": true,
   "sideBar": true,
   "skip_h1_title": false,
   "title_cell": "Table of Contents",
   "title_sidebar": "Contents",
   "toc_cell": false,
   "toc_position": {},
   "toc_section_display": true,
   "toc_window_display": false
  }
 },
 "nbformat": 4,
 "nbformat_minor": 2
}
